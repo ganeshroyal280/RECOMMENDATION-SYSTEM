{
  "cells": [
    {
      "cell_type": "code",
      "execution_count": null,
      "metadata": {
        "colab": {
          "background_save": true,
          "base_uri": "https://localhost:8080/"
        },
        "id": "nrNhoSrP4rua",
        "outputId": "ad06a598-0eea-4dee-8878-d0b1dc417df5"
      },
      "outputs": [
        {
          "name": "stdout",
          "output_type": "stream",
          "text": [
            "\n",
            "Recommended items for User1:\n",
            "item\n",
            "ItemD    1.603841e-01\n",
            "ItemE    3.768786e-16\n"
          ]
        }
      ],
      "source": [
        "import pandas as pd\n",
        "from sklearn.metrics.pairwise import cosine_similarity\n",
        "from scipy.sparse.linalg import svds\n",
        "import numpy as np\n",
        "\n",
        "# Sample dataset of user-item interactions\n",
        "data = {\n",
        "    'user': ['User1', 'User1', 'User1', 'User2', 'User2', 'User3', 'User3', 'User4', 'User5'],\n",
        "    'item': ['ItemA', 'ItemB', 'ItemC', 'ItemA', 'ItemB', 'ItemB', 'ItemD', 'ItemC', 'ItemE'],\n",
        "    'rating': [5, 3, 4, 4, 5, 3, 4, 5, 1]\n",
        "}\n",
        "\n",
        "# Create a DataFrame\n",
        "df = pd.DataFrame(data)\n",
        "\n",
        "# Create a user-item matrix\n",
        "user_item_matrix = df.pivot_table(index='user', columns='item', values='rating').fillna(0)\n",
        "\n",
        "# Convert the matrix to a NumPy array\n",
        "user_item_matrix_np = user_item_matrix.values\n",
        "\n",
        "# Perform Singular Value Decomposition (SVD)\n",
        "U, sigma, Vt = svds(user_item_matrix_np, k=2)\n",
        "\n",
        "# Convert sigma (diagonal matrix) to a full matrix\n",
        "sigma = np.diag(sigma)\n",
        "\n",
        "# Reconstruct the predicted ratings matrix\n",
        "predicted_ratings = np.dot(np.dot(U, sigma), Vt)\n",
        "\n",
        "# Convert the predicted ratings matrix back to a DataFrame\n",
        "predicted_ratings_df = pd.DataFrame(predicted_ratings, index=user_item_matrix.index, columns=user_item_matrix.columns)\n",
        "\n",
        "# Recommendation function\n",
        "def recommend_items(user, predicted_ratings_df, original_ratings_df, top_n=2):\n",
        "    user_ratings = original_ratings_df.loc[user]\n",
        "    user_predictions = predicted_ratings_df.loc[user]\n",
        "\n",
        "    # Exclude items the user has already rated\n",
        "    unrated_items = user_ratings[user_ratings == 0].index\n",
        "    recommendations = user_predictions[unrated_items].sort_values(ascending=False).head(top_n)\n",
        "\n",
        "    return recommendations\n",
        "\n",
        "# Example: Recommend items for User1\n",
        "user = 'User1'\n",
        "recommendations = recommend_items(user, predicted_ratings_df, user_item_matrix)\n",
        "print(f\"\\nRecommended items for {user}:\")\n",
        "print(recommendations.to_string())\n"
      ]
    },
    {
      "cell_type": "code",
      "execution_count": null,
      "metadata": {
        "id": "m7fvbIWd4txm"
      },
      "outputs": [],
      "source": []
    }
  ],
  "metadata": {
    "colab": {
      "provenance": []
    },
    "kernelspec": {
      "display_name": "Python 3",
      "name": "python3"
    },
    "language_info": {
      "name": "python"
    }
  },
  "nbformat": 4,
  "nbformat_minor": 0
}